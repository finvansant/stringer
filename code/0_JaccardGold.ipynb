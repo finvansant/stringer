{
  "nbformat": 4,
  "nbformat_minor": 0,
  "metadata": {
    "colab": {
      "name": "0_JaccardGold.ipynb",
      "provenance": [],
      "collapsed_sections": [],
      "toc_visible": true
    },
    "kernelspec": {
      "name": "python3",
      "display_name": "Python 3"
    },
    "language_info": {
      "name": "python"
    }
  },
  "cells": [
    {
      "cell_type": "markdown",
      "metadata": {
        "id": "49zsIvzlJ5cn"
      },
      "source": [
        "### user input"
      ]
    },
    {
      "cell_type": "code",
      "metadata": {
        "id": "AjaxYRwPJ6qf",
        "colab": {
          "base_uri": "https://localhost:8080/"
        },
        "outputId": "4ad4dbcf-1e7a-46dd-f8a2-2e78f92ef8e0"
      },
      "source": [
        "# select appropriate google drive path and insert code\n",
        "from google.colab import drive\n",
        "drive.mount('drive')\n",
        "# drive = 'drive/My Drive/Spring 2021/Stringer/Data/'\n",
        "drive = '/content/drive/MyDrive/Stringer/Data/'"
      ],
      "execution_count": null,
      "outputs": [
        {
          "output_type": "stream",
          "text": [
            "Mounted at drive\n"
          ],
          "name": "stdout"
        }
      ]
    },
    {
      "cell_type": "code",
      "metadata": {
        "id": "Gh5cJ7SLJ8ii"
      },
      "source": [
        "# code to ingest user input and then turn it into list of search terms\n",
        "searchTerm = [x for x in input(\"Please enter a list of query terms\\n\").split(', ')]\n",
        "print(\"\\nInput Values: \", searchTerm)\n",
        "\n",
        "# for testing \n",
        "# searchTerm = ['vaccine', 'covid'] "
      ],
      "execution_count": null,
      "outputs": []
    },
    {
      "cell_type": "code",
      "metadata": {
        "id": "armAScKB1MRA"
      },
      "source": [
        "# prior data to search for hashtags to expand by\n",
        "priorData = 'search15000_covid.csv' \n",
        "# output file\n",
        "jaccardOutput = 'Jaccard.csv'\n",
        "# jaccard threshold for new search terms at or above\n",
        "thresh = 0.03"
      ],
      "execution_count": null,
      "outputs": []
    },
    {
      "cell_type": "markdown",
      "metadata": {
        "id": "ObdsWYtU1Ti6"
      },
      "source": [
        "### setup"
      ]
    },
    {
      "cell_type": "code",
      "metadata": {
        "id": "OZSQaewt1duI"
      },
      "source": [
        "import pandas as pd\n",
        "from collections import defaultdict"
      ],
      "execution_count": null,
      "outputs": []
    },
    {
      "cell_type": "code",
      "metadata": {
        "colab": {
          "base_uri": "https://localhost:8080/",
          "height": 216
        },
        "id": "QFoOdrYJSxms",
        "outputId": "3cabfa7f-a135-4991-9349-1bc500a04d4b"
      },
      "source": [
        "# read in data\n",
        "data = pd.read_csv(drive + priorData)\n",
        "print(data.shape)\n",
        "data = data[data['hashtags'] != '[]']\n",
        "data['hashtags'] = data['hashtags'].str.lower()\n",
        "from ast import literal_eval\n",
        "# clean hashtags\n",
        "data['hashtags'] = data['hashtags'].apply(literal_eval)\n",
        "print(data.shape)\n",
        "data.head(2)"
      ],
      "execution_count": null,
      "outputs": [
        {
          "output_type": "stream",
          "text": [
            "(15000, 12)\n",
            "(2235, 12)\n"
          ],
          "name": "stdout"
        },
        {
          "output_type": "execute_result",
          "data": {
            "text/html": [
              "<div>\n",
              "<style scoped>\n",
              "    .dataframe tbody tr th:only-of-type {\n",
              "        vertical-align: middle;\n",
              "    }\n",
              "\n",
              "    .dataframe tbody tr th {\n",
              "        vertical-align: top;\n",
              "    }\n",
              "\n",
              "    .dataframe thead th {\n",
              "        text-align: right;\n",
              "    }\n",
              "</style>\n",
              "<table border=\"1\" class=\"dataframe\">\n",
              "  <thead>\n",
              "    <tr style=\"text-align: right;\">\n",
              "      <th></th>\n",
              "      <th>tweet_id</th>\n",
              "      <th>user</th>\n",
              "      <th>created_on</th>\n",
              "      <th>tweet_text</th>\n",
              "      <th>fav_count</th>\n",
              "      <th>user_description</th>\n",
              "      <th>user_verified</th>\n",
              "      <th>user_follower_count</th>\n",
              "      <th>is_retweet</th>\n",
              "      <th>hashtags</th>\n",
              "      <th>is_quote</th>\n",
              "      <th>quote_text</th>\n",
              "    </tr>\n",
              "  </thead>\n",
              "  <tbody>\n",
              "    <tr>\n",
              "      <th>7</th>\n",
              "      <td>1380080898230587392</td>\n",
              "      <td>Twilogsteps</td>\n",
              "      <td>2021-04-08 08:51:41</td>\n",
              "      <td>The latest Twilog steps! https://t.co/67dLDCXV...</td>\n",
              "      <td>0</td>\n",
              "      <td>█►Για όλα και όχι για όλους◄█  🧭️</td>\n",
              "      <td>False</td>\n",
              "      <td>336</td>\n",
              "      <td>1</td>\n",
              "      <td>[digital, covid_19]</td>\n",
              "      <td>0</td>\n",
              "      <td>None</td>\n",
              "    </tr>\n",
              "    <tr>\n",
              "      <th>10</th>\n",
              "      <td>1380080897865744385</td>\n",
              "      <td>PaulineLeeson</td>\n",
              "      <td>2021-04-08 08:51:41</td>\n",
              "      <td>From 12 noon today, people aged 40-44 will be ...</td>\n",
              "      <td>0</td>\n",
              "      <td>Chief Executive of Children in Northern Irelan...</td>\n",
              "      <td>False</td>\n",
              "      <td>1044</td>\n",
              "      <td>1</td>\n",
              "      <td>[covid19]</td>\n",
              "      <td>0</td>\n",
              "      <td>None</td>\n",
              "    </tr>\n",
              "  </tbody>\n",
              "</table>\n",
              "</div>"
            ],
            "text/plain": [
              "               tweet_id           user  ... is_quote quote_text\n",
              "7   1380080898230587392    Twilogsteps  ...        0       None\n",
              "10  1380080897865744385  PaulineLeeson  ...        0       None\n",
              "\n",
              "[2 rows x 12 columns]"
            ]
          },
          "metadata": {
            "tags": []
          },
          "execution_count": 18
        }
      ]
    },
    {
      "cell_type": "code",
      "metadata": {
        "colab": {
          "base_uri": "https://localhost:8080/"
        },
        "id": "AchH2x3CpTjG",
        "outputId": "8bc459cf-7285-4e1e-c415-0a4b04258ee8"
      },
      "source": [
        "# get list of hashtags from the prior data\n",
        "lst = data['hashtags'].tolist()\n",
        "# remove duplicates\n",
        "related_hashtags = set([word for sublist in lst for word in sublist])\n",
        "len(related_hashtags)"
      ],
      "execution_count": null,
      "outputs": [
        {
          "output_type": "execute_result",
          "data": {
            "text/plain": [
              "1475"
            ]
          },
          "metadata": {
            "tags": []
          },
          "execution_count": 20
        }
      ]
    },
    {
      "cell_type": "markdown",
      "metadata": {
        "id": "T_V8vhmNKd4Z"
      },
      "source": [
        "### Jaccard Similarity"
      ]
    },
    {
      "cell_type": "code",
      "metadata": {
        "id": "S_z5Ra9fZflC"
      },
      "source": [
        "# keep track of each hastags appear in which rows \n",
        "seeds = related_hashtags\n",
        "tokenOccurences = defaultdict(list)\n",
        "\n",
        "for row in data.itertuples():\n",
        "  # print(row.Index, row.hashtags)\n",
        "  for token in row.hashtags:\n",
        "    tokenOccurences[token].append(row.Index)\n",
        "    # print(token, row.Index)"
      ],
      "execution_count": null,
      "outputs": []
    },
    {
      "cell_type": "code",
      "metadata": {
        "id": "NVG3zRBks-nm",
        "colab": {
          "base_uri": "https://localhost:8080/",
          "height": 238
        },
        "outputId": "4760001c-e118-4052-a82e-1bea5c0aae5f"
      },
      "source": [
        "# how often was that hashtag used\n",
        "hashtag_popularity = pd.DataFrame([{'hashtag': seed, 'popularity': len(set(tokenOccurences[seed]))} for seed in seeds])\n",
        "hashtag_popularity = hashtag_popularity.sort_values(by='popularity', ascending = False)\n",
        "print('10+ times:', len(hashtag_popularity[hashtag_popularity['popularity'] > 10]))\n",
        "print('number of hashtags:', len(hashtag_popularity))\n",
        "hashtag_popularity.head(5)"
      ],
      "execution_count": null,
      "outputs": [
        {
          "output_type": "stream",
          "text": [
            "10+ times: 58\n",
            "number of hashtags: 1475\n"
          ],
          "name": "stdout"
        },
        {
          "output_type": "execute_result",
          "data": {
            "text/html": [
              "<div>\n",
              "<style scoped>\n",
              "    .dataframe tbody tr th:only-of-type {\n",
              "        vertical-align: middle;\n",
              "    }\n",
              "\n",
              "    .dataframe tbody tr th {\n",
              "        vertical-align: top;\n",
              "    }\n",
              "\n",
              "    .dataframe thead th {\n",
              "        text-align: right;\n",
              "    }\n",
              "</style>\n",
              "<table border=\"1\" class=\"dataframe\">\n",
              "  <thead>\n",
              "    <tr style=\"text-align: right;\">\n",
              "      <th></th>\n",
              "      <th>hashtag</th>\n",
              "      <th>popularity</th>\n",
              "    </tr>\n",
              "  </thead>\n",
              "  <tbody>\n",
              "    <tr>\n",
              "      <th>1116</th>\n",
              "      <td>covid19</td>\n",
              "      <td>578</td>\n",
              "    </tr>\n",
              "    <tr>\n",
              "      <th>661</th>\n",
              "      <td>coronavirus</td>\n",
              "      <td>242</td>\n",
              "    </tr>\n",
              "    <tr>\n",
              "      <th>539</th>\n",
              "      <td>vaccine</td>\n",
              "      <td>197</td>\n",
              "    </tr>\n",
              "    <tr>\n",
              "      <th>904</th>\n",
              "      <td>covid</td>\n",
              "      <td>192</td>\n",
              "    </tr>\n",
              "    <tr>\n",
              "      <th>443</th>\n",
              "      <td>maharashtra</td>\n",
              "      <td>104</td>\n",
              "    </tr>\n",
              "  </tbody>\n",
              "</table>\n",
              "</div>"
            ],
            "text/plain": [
              "          hashtag  popularity\n",
              "1116      covid19         578\n",
              "661   coronavirus         242\n",
              "539       vaccine         197\n",
              "904         covid         192\n",
              "443   maharashtra         104"
            ]
          },
          "metadata": {
            "tags": []
          },
          "execution_count": 14
        }
      ]
    },
    {
      "cell_type": "code",
      "metadata": {
        "id": "lffTkl_-0LBr"
      },
      "source": [
        "tokenJaccard = []\n",
        "cooccuredTokens = set()\n",
        "for seed in seeds:\n",
        "\n",
        "  sents = set(tokenOccurences[seed])\n",
        "\n",
        "# find the cooccuring tokens for each seed\n",
        "  for row in data.itertuples():\n",
        "    if seed in row.hashtags:\n",
        "      for token in row.hashtags:\n",
        "        # print(row.hashtags, token)\n",
        "        cooccuredTokens.add(token)\n",
        "\n",
        "  progress = 0\n",
        "  total = len(cooccuredTokens)\n",
        "  for tok in cooccuredTokens:\n",
        "    # index of docs that co-occur token appears in \n",
        "    sents1 = set(tokenOccurences[tok]) \n",
        "    # calculated jaccard: d(seed) intersection d(co-occur token) / d(seed) union d(co-occur token)\n",
        "    jaccard = len(sents & sents1) / float(len(sents | sents1)) \n",
        "    tokenJaccard.append({'seed': seed, 'hashtag': tok, 'jaccard': jaccard})\n",
        "    progress += 1"
      ],
      "execution_count": null,
      "outputs": []
    },
    {
      "cell_type": "markdown",
      "metadata": {
        "id": "UhDtNXJ7FmOr"
      },
      "source": [
        "### Relevant Jaccard"
      ]
    },
    {
      "cell_type": "code",
      "metadata": {
        "colab": {
          "base_uri": "https://localhost:8080/",
          "height": 686
        },
        "id": "RbkB2iALmYpm",
        "outputId": "6c1fc864-17f5-4964-ba28-056467e94f4b"
      },
      "source": [
        "tokenJaccard = pd.DataFrame(tokenJaccard)\n",
        "tokenJaccard = tokenJaccard.sort_values(by='jaccard', ascending=False)\n",
        "\n",
        "# subsetting to only include search terms from user input\n",
        "tokenJaccardSearch = tokenJaccard[tokenJaccard['seed'].isin(searchTerm)] \n",
        "print(len(tokenJaccardSearch))\n",
        "tokenJaccardSearch.head(20)"
      ],
      "execution_count": null,
      "outputs": [
        {
          "output_type": "stream",
          "text": [
            "2421\n"
          ],
          "name": "stdout"
        },
        {
          "output_type": "execute_result",
          "data": {
            "text/html": [
              "<div>\n",
              "<style scoped>\n",
              "    .dataframe tbody tr th:only-of-type {\n",
              "        vertical-align: middle;\n",
              "    }\n",
              "\n",
              "    .dataframe tbody tr th {\n",
              "        vertical-align: top;\n",
              "    }\n",
              "\n",
              "    .dataframe thead th {\n",
              "        text-align: right;\n",
              "    }\n",
              "</style>\n",
              "<table border=\"1\" class=\"dataframe\">\n",
              "  <thead>\n",
              "    <tr style=\"text-align: right;\">\n",
              "      <th></th>\n",
              "      <th>seed</th>\n",
              "      <th>hashtag</th>\n",
              "      <th>jaccard</th>\n",
              "    </tr>\n",
              "  </thead>\n",
              "  <tbody>\n",
              "    <tr>\n",
              "      <th>390119</th>\n",
              "      <td>vaccine</td>\n",
              "      <td>vaccine</td>\n",
              "      <td>1.000000</td>\n",
              "    </tr>\n",
              "    <tr>\n",
              "      <th>835745</th>\n",
              "      <td>covid</td>\n",
              "      <td>covid</td>\n",
              "      <td>1.000000</td>\n",
              "    </tr>\n",
              "    <tr>\n",
              "      <th>389795</th>\n",
              "      <td>vaccine</td>\n",
              "      <td>maharashtra</td>\n",
              "      <td>0.308696</td>\n",
              "    </tr>\n",
              "    <tr>\n",
              "      <th>389835</th>\n",
              "      <td>vaccine</td>\n",
              "      <td>astrazeneca</td>\n",
              "      <td>0.134783</td>\n",
              "    </tr>\n",
              "    <tr>\n",
              "      <th>389632</th>\n",
              "      <td>vaccine</td>\n",
              "      <td>covid19</td>\n",
              "      <td>0.129738</td>\n",
              "    </tr>\n",
              "    <tr>\n",
              "      <th>390432</th>\n",
              "      <td>vaccine</td>\n",
              "      <td>vaccination</td>\n",
              "      <td>0.118483</td>\n",
              "    </tr>\n",
              "    <tr>\n",
              "      <th>390346</th>\n",
              "      <td>vaccine</td>\n",
              "      <td>ecogiftsday</td>\n",
              "      <td>0.111675</td>\n",
              "    </tr>\n",
              "    <tr>\n",
              "      <th>390534</th>\n",
              "      <td>vaccine</td>\n",
              "      <td>snow</td>\n",
              "      <td>0.111675</td>\n",
              "    </tr>\n",
              "    <tr>\n",
              "      <th>390625</th>\n",
              "      <td>vaccine</td>\n",
              "      <td>gift</td>\n",
              "      <td>0.111675</td>\n",
              "    </tr>\n",
              "    <tr>\n",
              "      <th>390447</th>\n",
              "      <td>vaccine</td>\n",
              "      <td>thursdayvibes</td>\n",
              "      <td>0.111675</td>\n",
              "    </tr>\n",
              "    <tr>\n",
              "      <th>390597</th>\n",
              "      <td>vaccine</td>\n",
              "      <td>giveaway</td>\n",
              "      <td>0.111675</td>\n",
              "    </tr>\n",
              "    <tr>\n",
              "      <th>390236</th>\n",
              "      <td>vaccine</td>\n",
              "      <td>ukgiftam</td>\n",
              "      <td>0.111675</td>\n",
              "    </tr>\n",
              "    <tr>\n",
              "      <th>390614</th>\n",
              "      <td>vaccine</td>\n",
              "      <td>thursdaymorning</td>\n",
              "      <td>0.111675</td>\n",
              "    </tr>\n",
              "    <tr>\n",
              "      <th>389911</th>\n",
              "      <td>vaccine</td>\n",
              "      <td>ukgifthour</td>\n",
              "      <td>0.111675</td>\n",
              "    </tr>\n",
              "    <tr>\n",
              "      <th>389919</th>\n",
              "      <td>vaccine</td>\n",
              "      <td>sales</td>\n",
              "      <td>0.111675</td>\n",
              "    </tr>\n",
              "    <tr>\n",
              "      <th>389927</th>\n",
              "      <td>vaccine</td>\n",
              "      <td>ukweather</td>\n",
              "      <td>0.111675</td>\n",
              "    </tr>\n",
              "    <tr>\n",
              "      <th>389999</th>\n",
              "      <td>vaccine</td>\n",
              "      <td>summerof2021</td>\n",
              "      <td>0.111675</td>\n",
              "    </tr>\n",
              "    <tr>\n",
              "      <th>390470</th>\n",
              "      <td>vaccine</td>\n",
              "      <td>covidー19</td>\n",
              "      <td>0.109091</td>\n",
              "    </tr>\n",
              "    <tr>\n",
              "      <th>390645</th>\n",
              "      <td>vaccine</td>\n",
              "      <td>maskup</td>\n",
              "      <td>0.108911</td>\n",
              "    </tr>\n",
              "    <tr>\n",
              "      <th>389680</th>\n",
              "      <td>vaccine</td>\n",
              "      <td>covid_19</td>\n",
              "      <td>0.103774</td>\n",
              "    </tr>\n",
              "  </tbody>\n",
              "</table>\n",
              "</div>"
            ],
            "text/plain": [
              "           seed          hashtag   jaccard\n",
              "390119  vaccine          vaccine  1.000000\n",
              "835745    covid            covid  1.000000\n",
              "389795  vaccine      maharashtra  0.308696\n",
              "389835  vaccine      astrazeneca  0.134783\n",
              "389632  vaccine          covid19  0.129738\n",
              "390432  vaccine      vaccination  0.118483\n",
              "390346  vaccine      ecogiftsday  0.111675\n",
              "390534  vaccine             snow  0.111675\n",
              "390625  vaccine             gift  0.111675\n",
              "390447  vaccine    thursdayvibes  0.111675\n",
              "390597  vaccine         giveaway  0.111675\n",
              "390236  vaccine         ukgiftam  0.111675\n",
              "390614  vaccine  thursdaymorning  0.111675\n",
              "389911  vaccine       ukgifthour  0.111675\n",
              "389919  vaccine            sales  0.111675\n",
              "389927  vaccine        ukweather  0.111675\n",
              "389999  vaccine     summerof2021  0.111675\n",
              "390470  vaccine         covidー19  0.109091\n",
              "390645  vaccine           maskup  0.108911\n",
              "389680  vaccine         covid_19  0.103774"
            ]
          },
          "metadata": {
            "tags": []
          },
          "execution_count": 16
        }
      ]
    },
    {
      "cell_type": "code",
      "metadata": {
        "id": "ELOCOC7fvpVL"
      },
      "source": [
        "tokenJaccardSearch.to_csv(drive + jaccardOutput, index=None)"
      ],
      "execution_count": null,
      "outputs": []
    },
    {
      "cell_type": "code",
      "metadata": {
        "colab": {
          "base_uri": "https://localhost:8080/"
        },
        "id": "0KnVgVmSEnl1",
        "outputId": "e8e397ea-20ee-43e8-89fb-ec807b602c85"
      },
      "source": [
        "# keep hashtags with score above threshold \n",
        "tokenJaccardThreshold = tokenJaccardSearch[tokenJaccardSearch['jaccard'] >= thresh]\n",
        "extended_hashtag = tokenJaccardThreshold['hashtag'].values.tolist()\n",
        "extended_hashtag"
      ],
      "execution_count": null,
      "outputs": [
        {
          "output_type": "execute_result",
          "data": {
            "text/plain": [
              "['vaccine',\n",
              " 'covid',\n",
              " 'maharashtra',\n",
              " 'astrazeneca',\n",
              " 'covid19',\n",
              " 'vaccination',\n",
              " 'ecogiftsday',\n",
              " 'snow',\n",
              " 'gift',\n",
              " 'thursdayvibes',\n",
              " 'giveaway',\n",
              " 'ukgiftam',\n",
              " 'thursdaymorning',\n",
              " 'ukgifthour',\n",
              " 'sales',\n",
              " 'ukweather',\n",
              " 'summerof2021',\n",
              " 'covidー19',\n",
              " 'maskup',\n",
              " 'covid_19',\n",
              " 'corona',\n",
              " 'coronavirus',\n",
              " 'corona',\n",
              " 'india',\n",
              " 'school',\n",
              " 'nightcurfew',\n",
              " 'tamilnadu',\n",
              " 'covidvaccine',\n",
              " 'kgmu',\n",
              " 'iitroorkee',\n",
              " 'lucknow',\n",
              " 'vaccineforyoungistaan',\n",
              " 'mumbai',\n",
              " 'coronavirus',\n",
              " 'tngovt',\n",
              " 'pandemic']"
            ]
          },
          "metadata": {
            "tags": []
          },
          "execution_count": 17
        }
      ]
    }
  ]
}