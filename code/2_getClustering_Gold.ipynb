{
  "nbformat": 4,
  "nbformat_minor": 0,
  "metadata": {
    "colab": {
      "name": "2_getClustering_Gold.ipynb",
      "provenance": [],
      "collapsed_sections": [
        "DQUe3AlhX55x",
        "Q2a0irYNzExi",
        "xuYGuh1azIRD",
        "PcSXYcER491l",
        "yYlV31Ew3_z6"
      ],
      "toc_visible": true
    },
    "kernelspec": {
      "display_name": "Python 3",
      "name": "python3"
    },
    "language_info": {
      "name": "python"
    }
  },
  "cells": [
    {
      "cell_type": "markdown",
      "metadata": {
        "id": "DQUe3AlhX55x"
      },
      "source": [
        "#### Functions"
      ]
    },
    {
      "cell_type": "code",
      "metadata": {
        "colab": {
          "base_uri": "https://localhost:8080/"
        },
        "id": "JneG82t3Xftp",
        "outputId": "9b86e62a-d1d7-4124-ad7f-48c4f27735c9"
      },
      "source": [
        "import pandas as pd\n",
        "import numpy as np\n",
        "import random\n",
        "\n",
        "!pip install ipython-autotime\n",
        "%load_ext autotime\n"
      ],
      "execution_count": null,
      "outputs": [
        {
          "output_type": "stream",
          "text": [
            "Requirement already satisfied: ipython-autotime in /usr/local/lib/python3.7/dist-packages (0.3.1)\n",
            "Requirement already satisfied: ipython in /usr/local/lib/python3.7/dist-packages (from ipython-autotime) (5.5.0)\n",
            "Requirement already satisfied: prompt-toolkit<2.0.0,>=1.0.4 in /usr/local/lib/python3.7/dist-packages (from ipython->ipython-autotime) (1.0.18)\n",
            "Requirement already satisfied: pickleshare in /usr/local/lib/python3.7/dist-packages (from ipython->ipython-autotime) (0.7.5)\n",
            "Requirement already satisfied: pexpect; sys_platform != \"win32\" in /usr/local/lib/python3.7/dist-packages (from ipython->ipython-autotime) (4.8.0)\n",
            "Requirement already satisfied: setuptools>=18.5 in /usr/local/lib/python3.7/dist-packages (from ipython->ipython-autotime) (56.0.0)\n",
            "Requirement already satisfied: pygments in /usr/local/lib/python3.7/dist-packages (from ipython->ipython-autotime) (2.6.1)\n",
            "Requirement already satisfied: traitlets>=4.2 in /usr/local/lib/python3.7/dist-packages (from ipython->ipython-autotime) (5.0.5)\n",
            "Requirement already satisfied: simplegeneric>0.8 in /usr/local/lib/python3.7/dist-packages (from ipython->ipython-autotime) (0.8.1)\n",
            "Requirement already satisfied: decorator in /usr/local/lib/python3.7/dist-packages (from ipython->ipython-autotime) (4.4.2)\n",
            "Requirement already satisfied: six>=1.9.0 in /usr/local/lib/python3.7/dist-packages (from prompt-toolkit<2.0.0,>=1.0.4->ipython->ipython-autotime) (1.15.0)\n",
            "Requirement already satisfied: wcwidth in /usr/local/lib/python3.7/dist-packages (from prompt-toolkit<2.0.0,>=1.0.4->ipython->ipython-autotime) (0.2.5)\n",
            "Requirement already satisfied: ptyprocess>=0.5 in /usr/local/lib/python3.7/dist-packages (from pexpect; sys_platform != \"win32\"->ipython->ipython-autotime) (0.7.0)\n",
            "Requirement already satisfied: ipython-genutils in /usr/local/lib/python3.7/dist-packages (from traitlets>=4.2->ipython->ipython-autotime) (0.2.0)\n",
            "The autotime extension is already loaded. To reload it, use:\n",
            "  %reload_ext autotime\n",
            "time: 2.74 s (started: 2021-05-01 20:09:06 +00:00)\n"
          ],
          "name": "stdout"
        }
      ]
    },
    {
      "cell_type": "code",
      "metadata": {
        "colab": {
          "background_save": true,
          "base_uri": "https://localhost:8080/"
        },
        "id": "GdseeR2jYgWb",
        "outputId": "9e7db646-ef72-43ec-cb64-fc31bd925d20"
      },
      "source": [
        "!pip install emoji\n",
        "import emoji\n",
        "import nltk\n",
        "nltk.download('punkt')\n",
        "nltk.download('stopwords')\n",
        "from nltk.corpus import stopwords\n",
        "from gensim.parsing.preprocessing import STOPWORDS\n",
        "stopwords = stopwords.words('english') + ['does']\n",
        "stopwords = STOPWORDS.union(stopwords)\n",
        "\n",
        "import string \n",
        "\n",
        "import matplotlib.pyplot as plt\n",
        "\n",
        "from nltk.stem import WordNetLemmatizer\n",
        "nltk.download('wordnet')\n",
        "nltk.download('averaged_perceptron_tagger')\n",
        "lema = WordNetLemmatizer()\n",
        "\n",
        "from nltk.stem import PorterStemmer\n",
        "porter = PorterStemmer()\n",
        "\n",
        "\n",
        "from nltk.tokenize import TweetTokenizer\n",
        "from sklearn.feature_extraction.text import CountVectorizer\n",
        "\n",
        "\n",
        "from wordcloud import WordCloud, STOPWORDS, ImageColorGenerator\n",
        "import warnings\n",
        "warnings.filterwarnings(\"ignore\")\n",
        "\n",
        "pd.set_option('display.max_rows', None)\n",
        "pd.set_option('display.max_columns', None)\n",
        "pd.set_option('display.width', None)\n",
        "pd.set_option('display.max_colwidth', -1)"
      ],
      "execution_count": null,
      "outputs": [
        {
          "output_type": "stream",
          "text": [
            "Requirement already satisfied: emoji in /usr/local/lib/python3.7/dist-packages (1.2.0)\n",
            "[nltk_data] Downloading package punkt to /root/nltk_data...\n",
            "[nltk_data]   Package punkt is already up-to-date!\n",
            "[nltk_data] Downloading package stopwords to /root/nltk_data...\n",
            "[nltk_data]   Package stopwords is already up-to-date!\n",
            "[nltk_data] Downloading package wordnet to /root/nltk_data...\n",
            "[nltk_data]   Package wordnet is already up-to-date!\n",
            "[nltk_data] Downloading package averaged_perceptron_tagger to\n",
            "[nltk_data]     /root/nltk_data...\n",
            "[nltk_data]   Package averaged_perceptron_tagger is already up-to-\n",
            "[nltk_data]       date!\n",
            "time: 3.75 s (started: 2021-05-01 20:38:57 +00:00)\n"
          ],
          "name": "stdout"
        }
      ]
    },
    {
      "cell_type": "code",
      "metadata": {
        "colab": {
          "base_uri": "https://localhost:8080/"
        },
        "id": "eaEG-0YPYcjK",
        "outputId": "861cc3fc-1654-40df-91dc-11949621fcaf"
      },
      "source": [
        "def clean_tweets(df):\n",
        "    # remove link\n",
        "    df['tweetsProc'] = df['tweet_text'].str.lower().str.replace('http\\S+|www.\\S+', '', case=False)\n",
        "    # remove hashtage and at\n",
        "    df['tweetsProc'] = df['tweetsProc'].str.lower().str.replace('@\\S+|#\\S+|&\\S|&amp|\\n', ' ', case=False)\n",
        "    # remove posts with three words of less\n",
        "    df = df[~df['tweetsProc'].str.split().str.len().lt(3)]\n",
        "    df['tweetsProc'] = df['tweetsProc'].str.replace(' \\[removed\\]', '')\n",
        "    # remove emojis\n",
        "    emoji_list = emoji.get_emoji_regexp()\n",
        "    df['tweetsProc'] = df['tweetsProc'].str.replace(emoji_list, '', regex=True)\n",
        "    def is_valid_word(word):\n",
        "        return word not in stopwords and word.isalpha() and len(word) > 2 \n",
        "    df['tweetsProc'] = df['tweetsProc'].apply(lambda x: ' '.join([word for word in str(x).split() if is_valid_word(word)]))\n",
        "\n",
        "    df['tweetsProc'] = df['tweetsProc'].apply(lambda x: ' '.join([lema.lemmatize(word) for word in str(x).split()]))\n",
        "\n",
        "    df['tweetsProc'] = df['tweetsProc'].apply(lambda x: ' '.join([word for word in str(x).split() if is_valid_word(word)]))\n",
        "\n",
        "    df['tweets_token'] = df['tweetsProc'].apply(lambda x: set(nltk.word_tokenize(x)))\n",
        "    df.drop_duplicates(subset=['tweetsProc'], inplace=True)\n",
        "    return df "
      ],
      "execution_count": null,
      "outputs": [
        {
          "output_type": "stream",
          "text": [
            "time: 20.8 ms (started: 2021-05-01 20:09:12 +00:00)\n"
          ],
          "name": "stdout"
        }
      ]
    },
    {
      "cell_type": "markdown",
      "metadata": {
        "id": "C_6XNQPmX-ZS"
      },
      "source": [
        "#### Code"
      ]
    },
    {
      "cell_type": "markdown",
      "metadata": {
        "id": "Q2a0irYNzExi"
      },
      "source": [
        "#### Data Prepare"
      ]
    },
    {
      "cell_type": "code",
      "metadata": {
        "colab": {
          "base_uri": "https://localhost:8080/"
        },
        "id": "oBNpMa18Jd20",
        "outputId": "8795fba6-c277-4f92-afe5-ce33a9c50bf0"
      },
      "source": [
        "from google.colab import drive\n",
        "drive.mount('drive')\n",
        "drive = 'drive/My Drive/Spring 2021/Stringer/Data/'\n",
        "# drive = '/content/drive/MyDrive/Stringer/Data/'"
      ],
      "execution_count": null,
      "outputs": [
        {
          "output_type": "stream",
          "text": [
            "Drive already mounted at drive; to attempt to forcibly remount, call drive.mount(\"drive\", force_remount=True).\n",
            "time: 5.08 ms (started: 2021-05-01 20:09:42 +00:00)\n"
          ],
          "name": "stdout"
        }
      ]
    },
    {
      "cell_type": "code",
      "metadata": {
        "colab": {
          "base_uri": "https://localhost:8080/"
        },
        "id": "EBj1JJYoWYtc",
        "outputId": "2c19c0d0-b34b-4cab-9e71-d3ce907cd2aa"
      },
      "source": [
        "doc2cluster = '2021-05-01-15-41-07-KE_15000_2021-04-29_search.csv'\n",
        "data = pd.read_csv(drive + doc2cluster)\n",
        "p90 = np.percentile(data.user_follower_count.tolist(), 10) \n",
        "print(f'remove 10% of tweets with users lower than {p90} followers')\n",
        "data = data[data.user_follower_count > p90]\n",
        "print(f'after remove, there are {data.shape[0]} tweets left')"
      ],
      "execution_count": null,
      "outputs": [
        {
          "output_type": "stream",
          "text": [
            "remove 10% of tweets with users lower than 28.0 followers\n",
            "after remove, there are 13466 tweets left\n",
            "time: 1.31 s (started: 2021-05-01 20:09:44 +00:00)\n"
          ],
          "name": "stdout"
        }
      ]
    },
    {
      "cell_type": "code",
      "metadata": {
        "colab": {
          "base_uri": "https://localhost:8080/"
        },
        "id": "wW9-Yj85ZlBX",
        "outputId": "a28b7700-4d3b-4114-98cc-885eeadb396f"
      },
      "source": [
        "df = clean_tweets(data)\n",
        "tweets = df[['tweet_id','tweet_text','tweetsProc','tweets_token']]"
      ],
      "execution_count": null,
      "outputs": [
        {
          "output_type": "stream",
          "text": [
            "time: 16.6 s (started: 2021-05-01 20:09:49 +00:00)\n"
          ],
          "name": "stdout"
        }
      ]
    },
    {
      "cell_type": "code",
      "metadata": {
        "colab": {
          "base_uri": "https://localhost:8080/"
        },
        "id": "vyoia2fXcLiq",
        "outputId": "7e1fd455-cf14-4f77-b39b-64d79a26cd0a"
      },
      "source": [
        "import gensim\n",
        "from gensim import corpora, models\n",
        "from gensim.matutils import corpus2dense, corpus2csc\n",
        "\n",
        "# create dictionary from vocab\n",
        "dictionary = gensim.corpora.Dictionary(tweets['tweets_token'])\n",
        "dictionary.filter_extremes(no_below=15, no_above=0.4, keep_n=100000)\n",
        "\n",
        "num_docs = dictionary.num_docs\n",
        "num_terms = len(dictionary.keys())\n",
        "\n",
        "# translate doc into bag of words\n",
        "bow_corpus = [dictionary.doc2bow(doc) for doc in tweets['tweets_token']]\n",
        "\n",
        "tfidf = models.TfidfModel(bow_corpus)\n",
        "corpus_tfidf = tfidf[bow_corpus]\n",
        "\n",
        "corpus_tfidf_dense = corpus2dense(corpus_tfidf, num_terms, num_docs)"
      ],
      "execution_count": null,
      "outputs": [
        {
          "output_type": "stream",
          "text": [
            "time: 760 ms (started: 2021-05-01 20:10:06 +00:00)\n"
          ],
          "name": "stdout"
        }
      ]
    },
    {
      "cell_type": "markdown",
      "metadata": {
        "id": "xuYGuh1azIRD"
      },
      "source": [
        "#### Model"
      ]
    },
    {
      "cell_type": "code",
      "metadata": {
        "colab": {
          "background_save": true,
          "base_uri": "https://localhost:8080/"
        },
        "id": "loCtuRIsCFPu",
        "outputId": "48f94b26-4daa-48fe-ae9c-3a5fe9694a84"
      },
      "source": [
        "# https://jyotiyadav99111.medium.com/selecting-optimal-number-of-clusters-in-kmeans-algorithm-silhouette-score-c0d9ebb11308\n",
        "from sklearn.metrics import silhouette_score\n",
        "from sklearn.cluster import KMeans\n",
        "ks = range(2, 10)\n",
        "silhouette = []\n",
        "for k in ks:\n",
        "    # Create a KMeans instance with k clusters: model\n",
        "    model = KMeans(n_clusters=k,random_state=42)\n",
        "    \n",
        "    # Fit model to samples\n",
        "    model.fit_predict(corpus_tfidf_dense.T)\n",
        "    score = silhouette_score(corpus_tfidf_dense.T, model.labels_, metric='euclidean')\n",
        "    # Append the inertia to the list of inertias\n",
        "    silhouette.append(score)\n",
        "# plt.plot(ks, silhouette, '-o', color='black')\n",
        "# plt.xlabel('number of clusters, k')\n",
        "# plt.ylabel('silhouette score')\n",
        "# plt.xticks(ks)\n",
        "# plt.show()\n",
        "\n",
        "# choose the k have largest sihouette score \n",
        "k = max(2, silhouette.index(max(silhouette)))\n",
        "model = KMeans(n_clusters=k)\n",
        "\n",
        "# Fit model to samples\n",
        "model.fit(corpus_tfidf_dense.T)\n",
        "\n",
        "from collections import Counter\n",
        "Counter(model.labels_)"
      ],
      "execution_count": null,
      "outputs": [
        {
          "output_type": "execute_result",
          "data": {
            "text/plain": [
              "Counter({0: 3894, 1: 250, 2: 571, 3: 359, 4: 845, 5: 398, 6: 1455})"
            ]
          },
          "metadata": {
            "tags": []
          },
          "execution_count": 0
        },
        {
          "output_type": "stream",
          "text": [
            "time: 1min 59s (started: 2021-05-01 20:10:45 +00:00)\n"
          ],
          "name": "stdout"
        }
      ]
    },
    {
      "cell_type": "markdown",
      "metadata": {
        "id": "PcSXYcER491l"
      },
      "source": [
        "#### sample results"
      ]
    },
    {
      "cell_type": "code",
      "metadata": {
        "colab": {
          "base_uri": "https://localhost:8080/",
          "height": 393
        },
        "id": "0QrSc9UCo8p6",
        "outputId": "7ee20ce3-b9bc-482f-a342-4de22704697a"
      },
      "source": [
        "result={}\n",
        "global_mean = corpus_tfidf_dense.T.mean(axis=0).tolist()\n",
        "for i in range(len(model.cluster_centers_)):\n",
        "    # find the index of the smallest 10 words\n",
        "    index = np.array([model.cluster_centers_[i][n]-global_mean[n] for n in range(len(global_mean))]).argsort()[-10:][::-1]\n",
        "    words =  [dictionary.get(n) for n in index]\n",
        "    result['cluster'+str(i+1)] = words\n",
        "    # create_wordcloud(words)\n",
        "top10words = pd.DataFrame(result)\n",
        "print('Top 10 Words From Each Clusters')\n",
        "display(top10words)"
      ],
      "execution_count": null,
      "outputs": [
        {
          "output_type": "stream",
          "text": [
            "Top 10 Words From Each Clusters\n"
          ],
          "name": "stdout"
        },
        {
          "output_type": "display_data",
          "data": {
            "text/html": [
              "<div>\n",
              "<style scoped>\n",
              "    .dataframe tbody tr th:only-of-type {\n",
              "        vertical-align: middle;\n",
              "    }\n",
              "\n",
              "    .dataframe tbody tr th {\n",
              "        vertical-align: top;\n",
              "    }\n",
              "\n",
              "    .dataframe thead th {\n",
              "        text-align: right;\n",
              "    }\n",
              "</style>\n",
              "<table border=\"1\" class=\"dataframe\">\n",
              "  <thead>\n",
              "    <tr style=\"text-align: right;\">\n",
              "      <th></th>\n",
              "      <th>cluster1</th>\n",
              "      <th>cluster2</th>\n",
              "      <th>cluster3</th>\n",
              "      <th>cluster4</th>\n",
              "      <th>cluster5</th>\n",
              "      <th>cluster6</th>\n",
              "      <th>cluster7</th>\n",
              "    </tr>\n",
              "  </thead>\n",
              "  <tbody>\n",
              "    <tr>\n",
              "      <th>0</th>\n",
              "      <td>jab</td>\n",
              "      <td>blood</td>\n",
              "      <td>case</td>\n",
              "      <td>vaccine</td>\n",
              "      <td>covid</td>\n",
              "      <td>johnson</td>\n",
              "      <td>coronavirus</td>\n",
              "    </tr>\n",
              "    <tr>\n",
              "      <th>1</th>\n",
              "      <td>pfizer</td>\n",
              "      <td>clot</td>\n",
              "      <td>new</td>\n",
              "      <td>passport</td>\n",
              "      <td>test</td>\n",
              "      <td>boris</td>\n",
              "      <td>case</td>\n",
              "    </tr>\n",
              "    <tr>\n",
              "      <th>2</th>\n",
              "      <td>pandemic</td>\n",
              "      <td>risk</td>\n",
              "      <td>rise</td>\n",
              "      <td>dose</td>\n",
              "      <td>patient</td>\n",
              "      <td>northern</td>\n",
              "      <td>new</td>\n",
              "    </tr>\n",
              "    <tr>\n",
              "      <th>3</th>\n",
              "      <td>read</td>\n",
              "      <td>astrazeneca</td>\n",
              "      <td>active</td>\n",
              "      <td>maharashtra</td>\n",
              "      <td>death</td>\n",
              "      <td>ireland</td>\n",
              "      <td>variant</td>\n",
              "    </tr>\n",
              "    <tr>\n",
              "      <th>4</th>\n",
              "      <td>business</td>\n",
              "      <td>rare</td>\n",
              "      <td>surge</td>\n",
              "      <td>shortage</td>\n",
              "      <td>day</td>\n",
              "      <td>brexit</td>\n",
              "      <td>reported</td>\n",
              "    </tr>\n",
              "    <tr>\n",
              "      <th>5</th>\n",
              "      <td>impact</td>\n",
              "      <td>contraceptive</td>\n",
              "      <td>reported</td>\n",
              "      <td>centre</td>\n",
              "      <td>think</td>\n",
              "      <td>violence</td>\n",
              "      <td>death</td>\n",
              "    </tr>\n",
              "    <tr>\n",
              "      <th>6</th>\n",
              "      <td>moderna</td>\n",
              "      <td>pill</td>\n",
              "      <td>number</td>\n",
              "      <td>dos</td>\n",
              "      <td>year</td>\n",
              "      <td>irish</td>\n",
              "      <td>infection</td>\n",
              "    </tr>\n",
              "    <tr>\n",
              "      <th>7</th>\n",
              "      <td>april</td>\n",
              "      <td>chance</td>\n",
              "      <td>increase</td>\n",
              "      <td>minister</td>\n",
              "      <td>positive</td>\n",
              "      <td>border</td>\n",
              "      <td>recovery</td>\n",
              "    </tr>\n",
              "    <tr>\n",
              "      <th>8</th>\n",
              "      <td>apr</td>\n",
              "      <td>regulator</td>\n",
              "      <td>record</td>\n",
              "      <td>state</td>\n",
              "      <td>dying</td>\n",
              "      <td>peace</td>\n",
              "      <td>england</td>\n",
              "    </tr>\n",
              "    <tr>\n",
              "      <th>9</th>\n",
              "      <td>worker</td>\n",
              "      <td>link</td>\n",
              "      <td>rising</td>\n",
              "      <td>modi</td>\n",
              "      <td>hospital</td>\n",
              "      <td>lie</td>\n",
              "      <td>university</td>\n",
              "    </tr>\n",
              "  </tbody>\n",
              "</table>\n",
              "</div>"
            ],
            "text/plain": [
              "   cluster1       cluster2  cluster3     cluster4  cluster5  cluster6  \\\n",
              "0  jab       blood          case      vaccine      covid     johnson    \n",
              "1  pfizer    clot           new       passport     test      boris      \n",
              "2  pandemic  risk           rise      dose         patient   northern   \n",
              "3  read      astrazeneca    active    maharashtra  death     ireland    \n",
              "4  business  rare           surge     shortage     day       brexit     \n",
              "5  impact    contraceptive  reported  centre       think     violence   \n",
              "6  moderna   pill           number    dos          year      irish      \n",
              "7  april     chance         increase  minister     positive  border     \n",
              "8  apr       regulator      record    state        dying     peace      \n",
              "9  worker    link           rising    modi         hospital  lie        \n",
              "\n",
              "      cluster7  \n",
              "0  coronavirus  \n",
              "1  case         \n",
              "2  new          \n",
              "3  variant      \n",
              "4  reported     \n",
              "5  death        \n",
              "6  infection    \n",
              "7  recovery     \n",
              "8  england      \n",
              "9  university   "
            ]
          },
          "metadata": {
            "tags": []
          }
        },
        {
          "output_type": "stream",
          "text": [
            "time: 49.5 ms (started: 2021-04-30 13:24:22 +00:00)\n"
          ],
          "name": "stdout"
        }
      ]
    },
    {
      "cell_type": "code",
      "metadata": {
        "colab": {
          "base_uri": "https://localhost:8080/",
          "height": 1000
        },
        "id": "i1oMhJBs4m6N",
        "outputId": "6f7b26ed-e309-4049-d86e-a45f79a38edd"
      },
      "source": [
        "result = {}\n",
        "\n",
        "for k_i in range(k):\n",
        "    indices = [i for i, x in enumerate(model.labels_) if x == k_i]\n",
        "    cluster = corpus_tfidf_dense.T[indices]\n",
        "    from sklearn.metrics import pairwise_distances\n",
        "    distance = pairwise_distances(cluster, model.cluster_centers_[k_i].reshape(1,-1))\n",
        "    tweets_index = distance.flatten().argsort()[-5:][::-1].tolist()\n",
        "    tweets_index = [indices[i] for i in tweets_index]\n",
        "\n",
        "    result['cluster'+str(k_i+1)] = tweets.iloc[tweets_index]['tweet_text'].tolist()\n",
        "top5tweets = pd.DataFrame(result)\n",
        "print('Top 5 Tweets From Each Clusters')\n",
        "display(top5tweets)"
      ],
      "execution_count": null,
      "outputs": [
        {
          "output_type": "stream",
          "text": [
            "Top 5 Tweets From Each Clusters\n"
          ],
          "name": "stdout"
        },
        {
          "output_type": "display_data",
          "data": {
            "text/html": [
              "<div>\n",
              "<style scoped>\n",
              "    .dataframe tbody tr th:only-of-type {\n",
              "        vertical-align: middle;\n",
              "    }\n",
              "\n",
              "    .dataframe tbody tr th {\n",
              "        vertical-align: top;\n",
              "    }\n",
              "\n",
              "    .dataframe thead th {\n",
              "        text-align: right;\n",
              "    }\n",
              "</style>\n",
              "<table border=\"1\" class=\"dataframe\">\n",
              "  <thead>\n",
              "    <tr style=\"text-align: right;\">\n",
              "      <th></th>\n",
              "      <th>cluster1</th>\n",
              "      <th>cluster2</th>\n",
              "      <th>cluster3</th>\n",
              "      <th>cluster4</th>\n",
              "      <th>cluster5</th>\n",
              "      <th>cluster6</th>\n",
              "      <th>cluster7</th>\n",
              "    </tr>\n",
              "  </thead>\n",
              "  <tbody>\n",
              "    <tr>\n",
              "      <th>0</th>\n",
              "      <td>@sedvitae @Pammieoz Telling porkies, as usual. \\nhttps://t.co/rp28rQzFIG</td>\n",
              "      <td>My mum is due her 2nd AstraZeneca vaccine, on Sunday. I’m honestly nervous for her.</td>\n",
              "      <td>Not one rational reason left to not unfreeze the import of vaccines, get Pfizer, moderna, Sputnik and johnson and johnson in, let the rich pay more their vaccines, allocate the 3000 crores to ramp up Covishield, let go of central control over vaccines or allot by case load. Now.</td>\n",
              "      <td>“FARRAKHAN WARNS: Do Not Take the Experimental Covid-19 Vaccine!”\\n\\n(Side note: This thread is not in my own words. Everything i’m typing are citations &amp;amp; sources that can be found on https://t.co/zX5IluZz1P Vaccine (I broke the link up because 🐦 blocks it from being tweeted.</td>\n",
              "      <td>I have nothing against fans being allowed into the Euros but please explain how Covid 19 discriminates against club football.\\n\\nClubs are in more financial trouble than the SFA are in so why are the authorities prioritising this event ahead of others? @jasonleitch @NicolaSturgeon</td>\n",
              "      <td>We had a United Kingdom to be proud of, we had a tolerant and welcoming society, we had peace in N Ireland. We had relative security and prosperity within the EU. We had freedom of movement. We abided by the rule of law. Then we had Brexit and Boris Johnson. Now we have chaos.</td>\n",
              "      <td>Both the coronavirus pandemic and arduous work hours are taking their toll. Check out our series about burnout, with analysis of one of the biggest problems facing businesses and their employees, personal stories and tips on how to avoid it https://t.co/BYOmyEcFoO</td>\n",
              "    </tr>\n",
              "    <tr>\n",
              "      <th>1</th>\n",
              "      <td>@Karenlovecheese Surprised they haven't gone on to call it the EU Astra-Zeneca vaccine!!</td>\n",
              "      <td>If it isn’t him announcing his halting of AstraZeneca and opting for Pfizer, he can keep it. #auspol https://t.co/WuCnzkVS9k</td>\n",
              "      <td>@janetmmcgowan longer than 2 weeks (so called long covid), with definitely people reporting problems for months. So for me the vaccine isn’t just about preventing death. It’s about keeping hospital cases very low, keeping chronic illness low, which also helps economy &amp;amp; business. /end</td>\n",
              "      <td>Why are there vaccine courts set up in the USA?\\n\\nWhy have billions been paid out in vaccine damages over the years. https://t.co/Cb88ybmWop</td>\n",
              "      <td>Saw #VakeelSaabOnApril9th at Overseas Censor Board !! Totally SPEECHLESS ! #PawanKalyan Stole the Show all the way. After #Master, this film will surely cross 100 cr in Covid Situation. Best Tollywood Court room drama ever made. #VakeelSaab is BLOCKBUSTER. ⭐⭐⭐⭐ https://t.co/T5o3bq5ebS</td>\n",
              "      <td>Boris Johnson, Jacob Rees-Mogg and the rest of the Cabinet should resign.\\nThere lies are catching up with them. https://t.co/ks5SwQ5DYr</td>\n",
              "      <td>This great news was bashed back in April. Several of us tried to get this in front of the “right” individuals, to no avail. We went to social media and brought the news out directly. \\nTY Twitter \\n\\nAntiparasitic drug Ivermectin kills coronavirus in 48 hours https://t.co/2YHN4GExoT</td>\n",
              "    </tr>\n",
              "    <tr>\n",
              "      <th>2</th>\n",
              "      <td>@vickyallover I was manageably fat before COVID, now it's unmanageably fat...\\n\\nI was fit and fat before, now I'm just double fat hahaha</td>\n",
              "      <td>@JohnBoweActor How long did it take for this to come out? You have to remember with these companies there has to be a serious issue for them to admit any wrongdoing. They still wont directly say their vaccine has caused these clots btw.\\n\\nhttps://t.co/4OkG4Vtjhu</td>\n",
              "      <td>I fear that every time Hancock or Johnson say something to reassure folk about the AZ vaccine, more people start to worry that it isn't safe. If I didn't know better about this very rare case of them being right, I'd probably be thinking the same...</td>\n",
              "      <td>@AndreasQuinntia @mcmann_ryan @Femi_Sorry &amp;gt;Why did you claim the UK didn't discover the Oxford vaccine or manufacture it?&amp;lt;\\nSince not the UK, but Oxford University did so.\\nThe basic argument was that the EU has neither developed nor manufactured a vaccine.\\nAnd if that's true, my statement that the UK also didn't is valid.</td>\n",
              "      <td>West Bengal CM Mamata Banerjee unlikely to attend today's meeting called by PM Narendra Modi over Covid situation. Chief Secretary Alapan Bandyopadhyay to attend the meeting with PM Modi: Sources</td>\n",
              "      <td>Boris Johnson(Nov 2018) - \"I don't see how you can support a border down the Irish Sea from a democratic point of view... I don't see how Unionists can support it... &amp;amp; I'll be voting against it.\" He went on to vote for exactly this. \\n\\n https://t.co/tFLlZMfu9u</td>\n",
              "      <td>3 things to follow during this critical stage of Coronavirus\\n\\n1. Stop preaching now to wear mask, Sanitize &amp;amp; take safety, everyone knows\\n\\n2. When u go out, stop thinking what others are doing, take ur own protocols &amp;amp; safety\\n\\n3. If ur loved one die, only u will repent, remember</td>\n",
              "    </tr>\n",
              "    <tr>\n",
              "      <th>3</th>\n",
              "      <td>Anthony #Fauci's limitless publicity thirst is undermining the war on #COVID19  https://t.co/46djICZU1z via @nypost</td>\n",
              "      <td>@jessphillips Risk of clotting, contraceptive pill, 1400:1\\nRisk of DVT on long haul flights, 150000:1\\nRisk of clotting, Pfizer vaccine, 478261:1\\nRisk of clotting, AstraZeneca vaccine, 357143:1\\n\\nRisk of clotting, COVID ICU patients, between 3:10 &amp;amp; 7:10\\n\\nDo the effing math!</td>\n",
              "      <td>@CoinMarketCal $MRPH for sure, with real world use cases and major adoption with corps and gov, this one will continue to shine even through the next bear market.\\n\\n#Supplychain #logistics has become an important sector due to Covid.\\nProject has an amazing, experienced team and huge network</td>\n",
              "      <td>Let us then !!!\\nWe don’t have passports or a ban on vertical drinking for Flu.\\nhttps://t.co/wh9IdRjcK0</td>\n",
              "      <td>@yvonneliverbird Exactly yvonne.. Yet we have precise figures for covid deaths. also the pharmaceutical companies are immune from prosecution under emergency legislation..</td>\n",
              "      <td>The Prime Minister chose the Irish Sea as a divide between Northern Ireland and the rest of the UK, but instead of being honest about it, he dissembled\\n#NI https://t.co/QiYUelb0IV</td>\n",
              "      <td>'Today, the most pressing issue to have arisen is whether a global vaccination programme is needed to end the coronavirus crisis. This question is so important that a debate urgently needs to be conducted to reach a global consensus on three basic points.' https://t.co/LbDydmZtAP</td>\n",
              "    </tr>\n",
              "    <tr>\n",
              "      <th>4</th>\n",
              "      <td>Emplyee Activism “here to stay”. Its how organisations listen (or not)  and what they do.. https://t.co/pejZ9K96Ce</td>\n",
              "      <td>The government continues to arrogantly push forward with their rollout of the AstraZeneca vaccine.\\n\\nThis is despite confirmed links to blood clotting, which they initially denied, but now claim are minuscule compared to the benefit.\\n\\nYour thoughts? https://t.co/jylQ1S5r3l</td>\n",
              "      <td>@loicl 133m worldwide cases 2.89m deaths\\nNo interest in playing UK/Johnston up or down.Covid played out approx the same most places\\nThere was no amazing decision.What accounts for differences?(1st Lockdown?)\\nThe World Bank is a lot more concerned about lot of other countries before UK.</td>\n",
              "      <td>Japan starting deliveries of vaccine for elderly. Maybe we’ll all fall into that age group when it’s our turn to get vaccinated... https://t.co/tZHMyLnQF8</td>\n",
              "      <td>@JohnVPegg1 Hi John. Thanks for your comment. We are due to re-open our reception at Croft Street, Burnley on Monday (12 April) to provide face to face customer support. This had been temporarily closed due to COVID restrictions. We also have Neighbourhood Officers to offer support.</td>\n",
              "      <td>While this is true, &amp;amp; I'm all for pragmatism, this was a predicted outcome of Brexit. I think those who saw it coming deserve a moment of 'I told you so,' as (a) they did and (b), despite his protestations, Johnson FAILED to prevent something he cheerily dismissed as Project Fear https://t.co/5TOOPDJUXR</td>\n",
              "      <td>@GrahamJ18821678 The common cold is a form of Coronavirus so all the measures taken to avoid Covid-19 will also prevent colds. Flu cases have also dropped dramatically. Increased hand hygiene has also led to a reduction in MRSA infections.</td>\n",
              "    </tr>\n",
              "  </tbody>\n",
              "</table>\n",
              "</div>"
            ],
            "text/plain": [
              "                                                                                                                                    cluster1  \\\n",
              "0  @sedvitae @Pammieoz Telling porkies, as usual. \\nhttps://t.co/rp28rQzFIG                                                                    \n",
              "1  @Karenlovecheese Surprised they haven't gone on to call it the EU Astra-Zeneca vaccine!!                                                    \n",
              "2  @vickyallover I was manageably fat before COVID, now it's unmanageably fat...\\n\\nI was fit and fat before, now I'm just double fat hahaha   \n",
              "3  Anthony #Fauci's limitless publicity thirst is undermining the war on #COVID19  https://t.co/46djICZU1z via @nypost                         \n",
              "4  Emplyee Activism “here to stay”. Its how organisations listen (or not)  and what they do.. https://t.co/pejZ9K96Ce                          \n",
              "\n",
              "                                                                                                                                                                                                                                                                                      cluster2  \\\n",
              "0  My mum is due her 2nd AstraZeneca vaccine, on Sunday. I’m honestly nervous for her.                                                                                                                                                                                                           \n",
              "1  If it isn’t him announcing his halting of AstraZeneca and opting for Pfizer, he can keep it. #auspol https://t.co/WuCnzkVS9k                                                                                                                                                                  \n",
              "2  @JohnBoweActor How long did it take for this to come out? You have to remember with these companies there has to be a serious issue for them to admit any wrongdoing. They still wont directly say their vaccine has caused these clots btw.\\n\\nhttps://t.co/4OkG4Vtjhu                       \n",
              "3  @jessphillips Risk of clotting, contraceptive pill, 1400:1\\nRisk of DVT on long haul flights, 150000:1\\nRisk of clotting, Pfizer vaccine, 478261:1\\nRisk of clotting, AstraZeneca vaccine, 357143:1\\n\\nRisk of clotting, COVID ICU patients, between 3:10 &amp; 7:10\\n\\nDo the effing math!   \n",
              "4  The government continues to arrogantly push forward with their rollout of the AstraZeneca vaccine.\\n\\nThis is despite confirmed links to blood clotting, which they initially denied, but now claim are minuscule compared to the benefit.\\n\\nYour thoughts? https://t.co/jylQ1S5r3l          \n",
              "\n",
              "                                                                                                                                                                                                                                                                                                cluster3  \\\n",
              "0  Not one rational reason left to not unfreeze the import of vaccines, get Pfizer, moderna, Sputnik and johnson and johnson in, let the rich pay more their vaccines, allocate the 3000 crores to ramp up Covishield, let go of central control over vaccines or allot by case load. Now.                 \n",
              "1  @janetmmcgowan longer than 2 weeks (so called long covid), with definitely people reporting problems for months. So for me the vaccine isn’t just about preventing death. It’s about keeping hospital cases very low, keeping chronic illness low, which also helps economy &amp; business. /end        \n",
              "2  I fear that every time Hancock or Johnson say something to reassure folk about the AZ vaccine, more people start to worry that it isn't safe. If I didn't know better about this very rare case of them being right, I'd probably be thinking the same...                                               \n",
              "3  @CoinMarketCal $MRPH for sure, with real world use cases and major adoption with corps and gov, this one will continue to shine even through the next bear market.\\n\\n#Supplychain #logistics has become an important sector due to Covid.\\nProject has an amazing, experienced team and huge network   \n",
              "4  @loicl 133m worldwide cases 2.89m deaths\\nNo interest in playing UK/Johnston up or down.Covid played out approx the same most places\\nThere was no amazing decision.What accounts for differences?(1st Lockdown?)\\nThe World Bank is a lot more concerned about lot of other countries before UK.       \n",
              "\n",
              "                                                                                                                                                                                                                                                                                                                                      cluster4  \\\n",
              "0  “FARRAKHAN WARNS: Do Not Take the Experimental Covid-19 Vaccine!”\\n\\n(Side note: This thread is not in my own words. Everything i’m typing are citations &amp; sources that can be found on https://t.co/zX5IluZz1P Vaccine (I broke the link up because 🐦 blocks it from being tweeted.                                                      \n",
              "1  Why are there vaccine courts set up in the USA?\\n\\nWhy have billions been paid out in vaccine damages over the years. https://t.co/Cb88ybmWop                                                                                                                                                                                                 \n",
              "2  @AndreasQuinntia @mcmann_ryan @Femi_Sorry &gt;Why did you claim the UK didn't discover the Oxford vaccine or manufacture it?&lt;\\nSince not the UK, but Oxford University did so.\\nThe basic argument was that the EU has neither developed nor manufactured a vaccine.\\nAnd if that's true, my statement that the UK also didn't is valid.   \n",
              "3  Let us then !!!\\nWe don’t have passports or a ban on vertical drinking for Flu.\\nhttps://t.co/wh9IdRjcK0                                                                                                                                                                                                                                      \n",
              "4  Japan starting deliveries of vaccine for elderly. Maybe we’ll all fall into that age group when it’s our turn to get vaccinated... https://t.co/tZHMyLnQF8                                                                                                                                                                                    \n",
              "\n",
              "                                                                                                                                                                                                                                                                                        cluster5  \\\n",
              "0  I have nothing against fans being allowed into the Euros but please explain how Covid 19 discriminates against club football.\\n\\nClubs are in more financial trouble than the SFA are in so why are the authorities prioritising this event ahead of others? @jasonleitch @NicolaSturgeon       \n",
              "1  Saw #VakeelSaabOnApril9th at Overseas Censor Board !! Totally SPEECHLESS ! #PawanKalyan Stole the Show all the way. After #Master, this film will surely cross 100 cr in Covid Situation. Best Tollywood Court room drama ever made. #VakeelSaab is BLOCKBUSTER. ⭐⭐⭐⭐ https://t.co/T5o3bq5ebS   \n",
              "2  West Bengal CM Mamata Banerjee unlikely to attend today's meeting called by PM Narendra Modi over Covid situation. Chief Secretary Alapan Bandyopadhyay to attend the meeting with PM Modi: Sources                                                                                             \n",
              "3  @yvonneliverbird Exactly yvonne.. Yet we have precise figures for covid deaths. also the pharmaceutical companies are immune from prosecution under emergency legislation..                                                                                                                     \n",
              "4  @JohnVPegg1 Hi John. Thanks for your comment. We are due to re-open our reception at Croft Street, Burnley on Monday (12 April) to provide face to face customer support. This had been temporarily closed due to COVID restrictions. We also have Neighbourhood Officers to offer support.     \n",
              "\n",
              "                                                                                                                                                                                                                                                                                                               cluster6  \\\n",
              "0  We had a United Kingdom to be proud of, we had a tolerant and welcoming society, we had peace in N Ireland. We had relative security and prosperity within the EU. We had freedom of movement. We abided by the rule of law. Then we had Brexit and Boris Johnson. Now we have chaos.                                  \n",
              "1  Boris Johnson, Jacob Rees-Mogg and the rest of the Cabinet should resign.\\nThere lies are catching up with them. https://t.co/ks5SwQ5DYr                                                                                                                                                                               \n",
              "2  Boris Johnson(Nov 2018) - \"I don't see how you can support a border down the Irish Sea from a democratic point of view... I don't see how Unionists can support it... &amp; I'll be voting against it.\" He went on to vote for exactly this. \\n\\n https://t.co/tFLlZMfu9u                                              \n",
              "3  The Prime Minister chose the Irish Sea as a divide between Northern Ireland and the rest of the UK, but instead of being honest about it, he dissembled\\n#NI https://t.co/QiYUelb0IV                                                                                                                                   \n",
              "4  While this is true, &amp; I'm all for pragmatism, this was a predicted outcome of Brexit. I think those who saw it coming deserve a moment of 'I told you so,' as (a) they did and (b), despite his protestations, Johnson FAILED to prevent something he cheerily dismissed as Project Fear https://t.co/5TOOPDJUXR   \n",
              "\n",
              "                                                                                                                                                                                                                                                                                              cluster7  \n",
              "0  Both the coronavirus pandemic and arduous work hours are taking their toll. Check out our series about burnout, with analysis of one of the biggest problems facing businesses and their employees, personal stories and tips on how to avoid it https://t.co/BYOmyEcFoO                             \n",
              "1  This great news was bashed back in April. Several of us tried to get this in front of the “right” individuals, to no avail. We went to social media and brought the news out directly. \\nTY Twitter \\n\\nAntiparasitic drug Ivermectin kills coronavirus in 48 hours https://t.co/2YHN4GExoT          \n",
              "2  3 things to follow during this critical stage of Coronavirus\\n\\n1. Stop preaching now to wear mask, Sanitize &amp; take safety, everyone knows\\n\\n2. When u go out, stop thinking what others are doing, take ur own protocols &amp; safety\\n\\n3. If ur loved one die, only u will repent, remember  \n",
              "3  'Today, the most pressing issue to have arisen is whether a global vaccination programme is needed to end the coronavirus crisis. This question is so important that a debate urgently needs to be conducted to reach a global consensus on three basic points.' https://t.co/LbDydmZtAP             \n",
              "4  @GrahamJ18821678 The common cold is a form of Coronavirus so all the measures taken to avoid Covid-19 will also prevent colds. Flu cases have also dropped dramatically. Increased hand hygiene has also led to a reduction in MRSA infections.                                                      "
            ]
          },
          "metadata": {
            "tags": []
          }
        },
        {
          "output_type": "stream",
          "text": [
            "time: 267 ms (started: 2021-04-30 13:24:28 +00:00)\n"
          ],
          "name": "stdout"
        }
      ]
    },
    {
      "cell_type": "markdown",
      "metadata": {
        "id": "yYlV31Ew3_z6"
      },
      "source": [
        "#### Save results"
      ]
    },
    {
      "cell_type": "code",
      "metadata": {
        "colab": {
          "base_uri": "https://localhost:8080/"
        },
        "id": "ir-kr6lY4P4I",
        "outputId": "6f202b22-39a1-4b87-9c4a-fc93e1eaf6ac"
      },
      "source": [
        "top10words.to_csv(drive + 'output/tweets_cluster_keywords' + doc2cluster)"
      ],
      "execution_count": null,
      "outputs": [
        {
          "output_type": "stream",
          "text": [
            "time: 15.1 ms (started: 2021-04-30 13:24:40 +00:00)\n"
          ],
          "name": "stdout"
        }
      ]
    },
    {
      "cell_type": "code",
      "metadata": {
        "colab": {
          "base_uri": "https://localhost:8080/"
        },
        "id": "eZQLHdzJ0y_X",
        "outputId": "5d397f81-b8ac-4616-ba1b-677feb5c2d5e"
      },
      "source": [
        "df['clusters'] = model.labels_\n",
        "df.to_csv(drive + '/output/tweets_cluster_output' + doc2cluster)\n",
        "# df.to_csv('/content/drive/MyDrive/Stringer/Data/output/tweets_cluster_output.csv')"
      ],
      "execution_count": null,
      "outputs": [
        {
          "output_type": "stream",
          "text": [
            "time: 171 ms (started: 2021-04-29 23:16:50 +00:00)\n"
          ],
          "name": "stdout"
        }
      ]
    }
  ]
}